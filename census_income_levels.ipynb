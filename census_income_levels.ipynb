{
  "cells": [
    {
      "cell_type": "markdown",
      "metadata": {
        "id": "view-in-github",
        "colab_type": "text"
      },
      "source": [
        "<a href=\"https://colab.research.google.com/github/nehafarath/predicting-adult-income-level/blob/main/census_income_levels.ipynb\" target=\"_parent\"><img src=\"https://colab.research.google.com/assets/colab-badge.svg\" alt=\"Open In Colab\"/></a>"
      ]
    },
    {
      "cell_type": "markdown",
      "metadata": {
        "id": "YA9PKLeh0Y8G"
      },
      "source": [
        "## Importing packages"
      ]
    },
    {
      "cell_type": "code",
      "execution_count": null,
      "metadata": {
        "id": "tNVNhWbM0Y8J"
      },
      "outputs": [],
      "source": [
        "import numpy as np\n",
        "import pandas as pd\n",
        "import matplotlib as mpl\n",
        "import matplotlib.pyplot as plt \n",
        "import seaborn as sn\n",
        "from sklearn import preprocessing, svm\n",
        "from sklearn.model_selection import cross_validate\n",
        "from sklearn.linear_model import LogisticRegression\n",
        "from sklearn.preprocessing import StandardScaler\n",
        "from sklearn.metrics import confusion_matrix, classification_report\n",
        "%matplotlib inline"
      ]
    },
    {
      "cell_type": "markdown",
      "metadata": {
        "id": "nTIG6_s-0Y8L"
      },
      "source": [
        "## Import Datasets"
      ]
    },
    {
      "cell_type": "code",
      "execution_count": null,
      "metadata": {
        "id": "7y6bad5S0Y8L"
      },
      "outputs": [],
      "source": [
        "columns = ['Age','Workclass','fnlgwt','Education','Education num','Marital Status',\n",
        "           'Occupation','Relationship','Race','Sex','Capital Gain','Capital Loss',\n",
        "           'Hours/Week','Native country','Income']"
      ]
    },
    {
      "cell_type": "code",
      "execution_count": null,
      "metadata": {
        "id": "c9G_KG5z0Y8M",
        "outputId": "bbf26dc4-8fae-444b-c802-1bd5879f49d2"
      },
      "outputs": [
        {
          "name": "stdout",
          "output_type": "stream",
          "text": [
            "<class 'pandas.core.frame.DataFrame'>\n",
            "RangeIndex: 32561 entries, 0 to 32560\n",
            "Data columns (total 15 columns):\n",
            " #   Column          Non-Null Count  Dtype \n",
            "---  ------          --------------  ----- \n",
            " 0   Age             32561 non-null  int64 \n",
            " 1   Workclass       32561 non-null  object\n",
            " 2   fnlgwt          32561 non-null  int64 \n",
            " 3   Education       32561 non-null  object\n",
            " 4   Education num   32561 non-null  int64 \n",
            " 5   Marital Status  32561 non-null  object\n",
            " 6   Occupation      32561 non-null  object\n",
            " 7   Relationship    32561 non-null  object\n",
            " 8   Race            32561 non-null  object\n",
            " 9   Sex             32561 non-null  object\n",
            " 10  Capital Gain    32561 non-null  int64 \n",
            " 11  Capital Loss    32561 non-null  int64 \n",
            " 12  Hours/Week      32561 non-null  int64 \n",
            " 13  Native country  32561 non-null  object\n",
            " 14  Income          32561 non-null  object\n",
            "dtypes: int64(6), object(9)\n",
            "memory usage: 3.7+ MB\n"
          ]
        }
      ],
      "source": [
        "train = pd.read_csv('census-income.data.csv', names=columns)\n",
        "test = pd.read_csv('census-income.test.csv', names=columns, skiprows=1)\n",
        "train.info()"
      ]
    },
    {
      "cell_type": "markdown",
      "metadata": {
        "id": "_PjAw34g0Y8N"
      },
      "source": [
        "## Cleaning Data"
      ]
    },
    {
      "cell_type": "code",
      "execution_count": null,
      "metadata": {
        "id": "hhHh-Wn90Y8N"
      },
      "outputs": [],
      "source": [
        "df = pd.concat([train, test], axis=0)"
      ]
    },
    {
      "cell_type": "code",
      "execution_count": null,
      "metadata": {
        "id": "iXPRARNH0Y8O"
      },
      "outputs": [],
      "source": [
        "df['Income'] = df['Income'].apply(lambda x: 1 if x==' >50K' else 0)"
      ]
    },
    {
      "cell_type": "code",
      "execution_count": null,
      "metadata": {
        "id": "z7lz44MD0Y8O"
      },
      "outputs": [],
      "source": [
        "for col in df.columns:\n",
        "    if type(df[col][0]) == str:\n",
        "        print(\"Working on \" + col)\n",
        "        df[col] = df[col].apply(lambda val: val.replace(\" \",\"\"))"
      ]
    },
    {
      "cell_type": "markdown",
      "metadata": {
        "id": "o-LLNK4n0Y8P"
      },
      "source": [
        "## Removing unknowns"
      ]
    },
    {
      "cell_type": "code",
      "execution_count": null,
      "metadata": {
        "id": "PZMSlQuB0Y8P"
      },
      "outputs": [],
      "source": [
        "df.replace(' ?', np.nan, inplace=True)"
      ]
    },
    {
      "cell_type": "code",
      "execution_count": null,
      "metadata": {
        "id": "xR1tQZp30Y8Q",
        "outputId": "9497a6ed-42bd-4e3b-9ca3-50aae6481f82"
      },
      "outputs": [
        {
          "data": {
            "text/plain": [
              "<matplotlib.axes._subplots.AxesSubplot at 0x181630e1948>"
            ]
          },
          "execution_count": 8,
          "metadata": {},
          "output_type": "execute_result"
        },
        {
          "data": {
            "image/png": "[encoded data removed]",
            "text/plain": [
              "<Figure size 432x288 with 2 Axes>"
            ]
          },
          "metadata": {
            "needs_background": "light"
          },
          "output_type": "display_data"
        }
      ],
      "source": [
        "sn.heatmap(df.isnull())"
      ]
    },
    {
      "cell_type": "markdown",
      "metadata": {
        "id": "UlG96edp0Y8Q"
      },
      "source": [
        "## Converting object to int\n"
      ]
    },
    {
      "cell_type": "code",
      "execution_count": null,
      "metadata": {
        "id": "31VeNXMz0Y8Q",
        "outputId": "1481ab75-fd16-4269-c8fb-785959adfabb"
      },
      "outputs": [
        {
          "name": "stdout",
          "output_type": "stream",
          "text": [
            "<class 'pandas.core.frame.DataFrame'>\n",
            "Int64Index: 48841 entries, 0 to 16279\n",
            "Data columns (total 15 columns):\n",
            " #   Column          Non-Null Count  Dtype \n",
            "---  ------          --------------  ----- \n",
            " 0   Age             48841 non-null  int64 \n",
            " 1   Workclass       46042 non-null  object\n",
            " 2   fnlgwt          48841 non-null  int64 \n",
            " 3   Education       48841 non-null  object\n",
            " 4   Education num   48841 non-null  int64 \n",
            " 5   Marital Status  48841 non-null  object\n",
            " 6   Occupation      46032 non-null  object\n",
            " 7   Relationship    48841 non-null  object\n",
            " 8   Race            48841 non-null  object\n",
            " 9   Sex             48841 non-null  object\n",
            " 10  Capital Gain    48841 non-null  int64 \n",
            " 11  Capital Loss    48841 non-null  int64 \n",
            " 12  Hours/Week      48841 non-null  int64 \n",
            " 13  Native country  47984 non-null  object\n",
            " 14  Income          48841 non-null  int64 \n",
            "dtypes: int64(7), object(8)\n",
            "memory usage: 7.2+ MB\n"
          ]
        }
      ],
      "source": [
        "df.info()"
      ]
    },
    {
      "cell_type": "code",
      "execution_count": null,
      "metadata": {
        "id": "PBi3zmWQ0Y8R"
      },
      "outputs": [],
      "source": [
        "df = pd.concat([df, pd.get_dummies(df['Workclass'],prefix='Workclass',prefix_sep=':')], axis=1)\n",
        "df.drop('Workclass',axis=1,inplace=True)"
      ]
    },
    {
      "cell_type": "code",
      "execution_count": null,
      "metadata": {
        "id": "dG6uDZhI0Y8R"
      },
      "outputs": [],
      "source": [
        "df = pd.concat([df, pd.get_dummies(df['Marital Status'],prefix='Marital Status',prefix_sep=':')], axis=1)\n",
        "df.drop('Marital Status',axis=1,inplace=True)"
      ]
    },
    {
      "cell_type": "code",
      "execution_count": null,
      "metadata": {
        "id": "t2hiAXQl0Y8R"
      },
      "outputs": [],
      "source": [
        "df = pd.concat([df, pd.get_dummies(df['Occupation'],prefix='Occupation',prefix_sep=':')], axis=1)\n",
        "df.drop('Occupation',axis=1,inplace=True)"
      ]
    },
    {
      "cell_type": "code",
      "execution_count": null,
      "metadata": {
        "id": "cXhhSGsh0Y8R"
      },
      "outputs": [],
      "source": [
        "df = pd.concat([df, pd.get_dummies(df['Relationship'],prefix='Relationship',prefix_sep=':')], axis=1)\n",
        "df.drop('Relationship',axis=1,inplace=True)"
      ]
    },
    {
      "cell_type": "code",
      "execution_count": null,
      "metadata": {
        "id": "puXug_860Y8S"
      },
      "outputs": [],
      "source": [
        "df = pd.concat([df, pd.get_dummies(df['Race'],prefix='Race',prefix_sep=':')], axis=1)\n",
        "df.drop('Race',axis=1,inplace=True)"
      ]
    },
    {
      "cell_type": "code",
      "execution_count": null,
      "metadata": {
        "id": "6b7ow5j30Y8S"
      },
      "outputs": [],
      "source": [
        "df = pd.concat([df, pd.get_dummies(df['Sex'],prefix='Sex',prefix_sep=':')], axis=1)\n",
        "df.drop('Sex',axis=1,inplace=True)"
      ]
    },
    {
      "cell_type": "code",
      "execution_count": null,
      "metadata": {
        "id": "_pRuvPmE0Y8S"
      },
      "outputs": [],
      "source": [
        "df = pd.concat([df, pd.get_dummies(df['Native country'],prefix='Native country',prefix_sep=':')], axis=1)\n",
        "df.drop('Native country',axis=1,inplace=True)"
      ]
    },
    {
      "cell_type": "code",
      "execution_count": null,
      "metadata": {
        "id": "r094JGUh0Y8S",
        "outputId": "4a6818bf-aea0-427b-a1aa-eaa6e2c493a1"
      },
      "outputs": [
        {
          "data": {
            "text/html": [
              "<div>\n",
              "<style scoped>\n",
              "    .dataframe tbody tr th:only-of-type {\n",
              "        vertical-align: middle;\n",
              "    }\n",
              "\n",
              "    .dataframe tbody tr th {\n",
              "        vertical-align: top;\n",
              "    }\n",
              "\n",
              "    .dataframe thead th {\n",
              "        text-align: right;\n",
              "    }\n",
              "</style>\n",
              "<table border=\"1\" class=\"dataframe\">\n",
              "  <thead>\n",
              "    <tr style=\"text-align: right;\">\n",
              "      <th></th>\n",
              "      <th>Age</th>\n",
              "      <th>fnlgwt</th>\n",
              "      <th>Education</th>\n",
              "      <th>Education num</th>\n",
              "      <th>Capital Gain</th>\n",
              "      <th>Capital Loss</th>\n",
              "      <th>Hours/Week</th>\n",
              "      <th>Income</th>\n",
              "      <th>Workclass: Federal-gov</th>\n",
              "      <th>Workclass: Local-gov</th>\n",
              "      <th>...</th>\n",
              "      <th>Native country: Portugal</th>\n",
              "      <th>Native country: Puerto-Rico</th>\n",
              "      <th>Native country: Scotland</th>\n",
              "      <th>Native country: South</th>\n",
              "      <th>Native country: Taiwan</th>\n",
              "      <th>Native country: Thailand</th>\n",
              "      <th>Native country: Trinadad&amp;Tobago</th>\n",
              "      <th>Native country: United-States</th>\n",
              "      <th>Native country: Vietnam</th>\n",
              "      <th>Native country: Yugoslavia</th>\n",
              "    </tr>\n",
              "  </thead>\n",
              "  <tbody>\n",
              "    <tr>\n",
              "      <th>0</th>\n",
              "      <td>39</td>\n",
              "      <td>77516</td>\n",
              "      <td>Bachelors</td>\n",
              "      <td>13</td>\n",
              "      <td>2174</td>\n",
              "      <td>0</td>\n",
              "      <td>40</td>\n",
              "      <td>0</td>\n",
              "      <td>0</td>\n",
              "      <td>0</td>\n",
              "      <td>...</td>\n",
              "      <td>0</td>\n",
              "      <td>0</td>\n",
              "      <td>0</td>\n",
              "      <td>0</td>\n",
              "      <td>0</td>\n",
              "      <td>0</td>\n",
              "      <td>0</td>\n",
              "      <td>1</td>\n",
              "      <td>0</td>\n",
              "      <td>0</td>\n",
              "    </tr>\n",
              "    <tr>\n",
              "      <th>1</th>\n",
              "      <td>50</td>\n",
              "      <td>83311</td>\n",
              "      <td>Bachelors</td>\n",
              "      <td>13</td>\n",
              "      <td>0</td>\n",
              "      <td>0</td>\n",
              "      <td>13</td>\n",
              "      <td>0</td>\n",
              "      <td>0</td>\n",
              "      <td>0</td>\n",
              "      <td>...</td>\n",
              "      <td>0</td>\n",
              "      <td>0</td>\n",
              "      <td>0</td>\n",
              "      <td>0</td>\n",
              "      <td>0</td>\n",
              "      <td>0</td>\n",
              "      <td>0</td>\n",
              "      <td>1</td>\n",
              "      <td>0</td>\n",
              "      <td>0</td>\n",
              "    </tr>\n",
              "    <tr>\n",
              "      <th>2</th>\n",
              "      <td>38</td>\n",
              "      <td>215646</td>\n",
              "      <td>HS-grad</td>\n",
              "      <td>9</td>\n",
              "      <td>0</td>\n",
              "      <td>0</td>\n",
              "      <td>40</td>\n",
              "      <td>0</td>\n",
              "      <td>0</td>\n",
              "      <td>0</td>\n",
              "      <td>...</td>\n",
              "      <td>0</td>\n",
              "      <td>0</td>\n",
              "      <td>0</td>\n",
              "      <td>0</td>\n",
              "      <td>0</td>\n",
              "      <td>0</td>\n",
              "      <td>0</td>\n",
              "      <td>1</td>\n",
              "      <td>0</td>\n",
              "      <td>0</td>\n",
              "    </tr>\n",
              "    <tr>\n",
              "      <th>3</th>\n",
              "      <td>53</td>\n",
              "      <td>234721</td>\n",
              "      <td>11th</td>\n",
              "      <td>7</td>\n",
              "      <td>0</td>\n",
              "      <td>0</td>\n",
              "      <td>40</td>\n",
              "      <td>0</td>\n",
              "      <td>0</td>\n",
              "      <td>0</td>\n",
              "      <td>...</td>\n",
              "      <td>0</td>\n",
              "      <td>0</td>\n",
              "      <td>0</td>\n",
              "      <td>0</td>\n",
              "      <td>0</td>\n",
              "      <td>0</td>\n",
              "      <td>0</td>\n",
              "      <td>1</td>\n",
              "      <td>0</td>\n",
              "      <td>0</td>\n",
              "    </tr>\n",
              "    <tr>\n",
              "      <th>4</th>\n",
              "      <td>28</td>\n",
              "      <td>338409</td>\n",
              "      <td>Bachelors</td>\n",
              "      <td>13</td>\n",
              "      <td>0</td>\n",
              "      <td>0</td>\n",
              "      <td>40</td>\n",
              "      <td>0</td>\n",
              "      <td>0</td>\n",
              "      <td>0</td>\n",
              "      <td>...</td>\n",
              "      <td>0</td>\n",
              "      <td>0</td>\n",
              "      <td>0</td>\n",
              "      <td>0</td>\n",
              "      <td>0</td>\n",
              "      <td>0</td>\n",
              "      <td>0</td>\n",
              "      <td>0</td>\n",
              "      <td>0</td>\n",
              "      <td>0</td>\n",
              "    </tr>\n",
              "  </tbody>\n",
              "</table>\n",
              "<p>5 rows × 91 columns</p>\n",
              "</div>"
            ],
            "text/plain": [
              "   Age  fnlgwt   Education  Education num  Capital Gain  Capital Loss  \\\n",
              "0   39   77516   Bachelors             13          2174             0   \n",
              "1   50   83311   Bachelors             13             0             0   \n",
              "2   38  215646     HS-grad              9             0             0   \n",
              "3   53  234721        11th              7             0             0   \n",
              "4   28  338409   Bachelors             13             0             0   \n",
              "\n",
              "   Hours/Week  Income  Workclass: Federal-gov  Workclass: Local-gov  ...  \\\n",
              "0          40       0                       0                     0  ...   \n",
              "1          13       0                       0                     0  ...   \n",
              "2          40       0                       0                     0  ...   \n",
              "3          40       0                       0                     0  ...   \n",
              "4          40       0                       0                     0  ...   \n",
              "\n",
              "   Native country: Portugal  Native country: Puerto-Rico  \\\n",
              "0                         0                            0   \n",
              "1                         0                            0   \n",
              "2                         0                            0   \n",
              "3                         0                            0   \n",
              "4                         0                            0   \n",
              "\n",
              "   Native country: Scotland  Native country: South  Native country: Taiwan  \\\n",
              "0                         0                      0                       0   \n",
              "1                         0                      0                       0   \n",
              "2                         0                      0                       0   \n",
              "3                         0                      0                       0   \n",
              "4                         0                      0                       0   \n",
              "\n",
              "   Native country: Thailand  Native country: Trinadad&Tobago  \\\n",
              "0                         0                                0   \n",
              "1                         0                                0   \n",
              "2                         0                                0   \n",
              "3                         0                                0   \n",
              "4                         0                                0   \n",
              "\n",
              "   Native country: United-States  Native country: Vietnam  \\\n",
              "0                              1                        0   \n",
              "1                              1                        0   \n",
              "2                              1                        0   \n",
              "3                              1                        0   \n",
              "4                              0                        0   \n",
              "\n",
              "   Native country: Yugoslavia  \n",
              "0                           0  \n",
              "1                           0  \n",
              "2                           0  \n",
              "3                           0  \n",
              "4                           0  \n",
              "\n",
              "[5 rows x 91 columns]"
            ]
          },
          "execution_count": 17,
          "metadata": {},
          "output_type": "execute_result"
        }
      ],
      "source": [
        "df.head()"
      ]
    },
    {
      "cell_type": "code",
      "execution_count": null,
      "metadata": {
        "id": "cTLypmug0Y8T"
      },
      "outputs": [],
      "source": [
        "df.drop('Education', axis=1,inplace=True)"
      ]
    },
    {
      "cell_type": "code",
      "execution_count": null,
      "metadata": {
        "id": "HeSOwJP20Y8T",
        "outputId": "5e9c3eb8-695e-4dc7-ceac-4646bf5ecfd8"
      },
      "outputs": [
        {
          "data": {
            "text/html": [
              "<div>\n",
              "<style scoped>\n",
              "    .dataframe tbody tr th:only-of-type {\n",
              "        vertical-align: middle;\n",
              "    }\n",
              "\n",
              "    .dataframe tbody tr th {\n",
              "        vertical-align: top;\n",
              "    }\n",
              "\n",
              "    .dataframe thead th {\n",
              "        text-align: right;\n",
              "    }\n",
              "</style>\n",
              "<table border=\"1\" class=\"dataframe\">\n",
              "  <thead>\n",
              "    <tr style=\"text-align: right;\">\n",
              "      <th></th>\n",
              "      <th>Age</th>\n",
              "      <th>fnlgwt</th>\n",
              "      <th>Education num</th>\n",
              "      <th>Capital Gain</th>\n",
              "      <th>Capital Loss</th>\n",
              "      <th>Hours/Week</th>\n",
              "      <th>Income</th>\n",
              "      <th>Workclass: Federal-gov</th>\n",
              "      <th>Workclass: Local-gov</th>\n",
              "      <th>Workclass: Never-worked</th>\n",
              "      <th>...</th>\n",
              "      <th>Native country: Portugal</th>\n",
              "      <th>Native country: Puerto-Rico</th>\n",
              "      <th>Native country: Scotland</th>\n",
              "      <th>Native country: South</th>\n",
              "      <th>Native country: Taiwan</th>\n",
              "      <th>Native country: Thailand</th>\n",
              "      <th>Native country: Trinadad&amp;Tobago</th>\n",
              "      <th>Native country: United-States</th>\n",
              "      <th>Native country: Vietnam</th>\n",
              "      <th>Native country: Yugoslavia</th>\n",
              "    </tr>\n",
              "  </thead>\n",
              "  <tbody>\n",
              "    <tr>\n",
              "      <th>0</th>\n",
              "      <td>39</td>\n",
              "      <td>77516</td>\n",
              "      <td>13</td>\n",
              "      <td>2174</td>\n",
              "      <td>0</td>\n",
              "      <td>40</td>\n",
              "      <td>0</td>\n",
              "      <td>0</td>\n",
              "      <td>0</td>\n",
              "      <td>0</td>\n",
              "      <td>...</td>\n",
              "      <td>0</td>\n",
              "      <td>0</td>\n",
              "      <td>0</td>\n",
              "      <td>0</td>\n",
              "      <td>0</td>\n",
              "      <td>0</td>\n",
              "      <td>0</td>\n",
              "      <td>1</td>\n",
              "      <td>0</td>\n",
              "      <td>0</td>\n",
              "    </tr>\n",
              "    <tr>\n",
              "      <th>1</th>\n",
              "      <td>50</td>\n",
              "      <td>83311</td>\n",
              "      <td>13</td>\n",
              "      <td>0</td>\n",
              "      <td>0</td>\n",
              "      <td>13</td>\n",
              "      <td>0</td>\n",
              "      <td>0</td>\n",
              "      <td>0</td>\n",
              "      <td>0</td>\n",
              "      <td>...</td>\n",
              "      <td>0</td>\n",
              "      <td>0</td>\n",
              "      <td>0</td>\n",
              "      <td>0</td>\n",
              "      <td>0</td>\n",
              "      <td>0</td>\n",
              "      <td>0</td>\n",
              "      <td>1</td>\n",
              "      <td>0</td>\n",
              "      <td>0</td>\n",
              "    </tr>\n",
              "    <tr>\n",
              "      <th>2</th>\n",
              "      <td>38</td>\n",
              "      <td>215646</td>\n",
              "      <td>9</td>\n",
              "      <td>0</td>\n",
              "      <td>0</td>\n",
              "      <td>40</td>\n",
              "      <td>0</td>\n",
              "      <td>0</td>\n",
              "      <td>0</td>\n",
              "      <td>0</td>\n",
              "      <td>...</td>\n",
              "      <td>0</td>\n",
              "      <td>0</td>\n",
              "      <td>0</td>\n",
              "      <td>0</td>\n",
              "      <td>0</td>\n",
              "      <td>0</td>\n",
              "      <td>0</td>\n",
              "      <td>1</td>\n",
              "      <td>0</td>\n",
              "      <td>0</td>\n",
              "    </tr>\n",
              "    <tr>\n",
              "      <th>3</th>\n",
              "      <td>53</td>\n",
              "      <td>234721</td>\n",
              "      <td>7</td>\n",
              "      <td>0</td>\n",
              "      <td>0</td>\n",
              "      <td>40</td>\n",
              "      <td>0</td>\n",
              "      <td>0</td>\n",
              "      <td>0</td>\n",
              "      <td>0</td>\n",
              "      <td>...</td>\n",
              "      <td>0</td>\n",
              "      <td>0</td>\n",
              "      <td>0</td>\n",
              "      <td>0</td>\n",
              "      <td>0</td>\n",
              "      <td>0</td>\n",
              "      <td>0</td>\n",
              "      <td>1</td>\n",
              "      <td>0</td>\n",
              "      <td>0</td>\n",
              "    </tr>\n",
              "    <tr>\n",
              "      <th>4</th>\n",
              "      <td>28</td>\n",
              "      <td>338409</td>\n",
              "      <td>13</td>\n",
              "      <td>0</td>\n",
              "      <td>0</td>\n",
              "      <td>40</td>\n",
              "      <td>0</td>\n",
              "      <td>0</td>\n",
              "      <td>0</td>\n",
              "      <td>0</td>\n",
              "      <td>...</td>\n",
              "      <td>0</td>\n",
              "      <td>0</td>\n",
              "      <td>0</td>\n",
              "      <td>0</td>\n",
              "      <td>0</td>\n",
              "      <td>0</td>\n",
              "      <td>0</td>\n",
              "      <td>0</td>\n",
              "      <td>0</td>\n",
              "      <td>0</td>\n",
              "    </tr>\n",
              "  </tbody>\n",
              "</table>\n",
              "<p>5 rows × 90 columns</p>\n",
              "</div>"
            ],
            "text/plain": [
              "   Age  fnlgwt  Education num  Capital Gain  Capital Loss  Hours/Week  Income  \\\n",
              "0   39   77516             13          2174             0          40       0   \n",
              "1   50   83311             13             0             0          13       0   \n",
              "2   38  215646              9             0             0          40       0   \n",
              "3   53  234721              7             0             0          40       0   \n",
              "4   28  338409             13             0             0          40       0   \n",
              "\n",
              "   Workclass: Federal-gov  Workclass: Local-gov  Workclass: Never-worked  ...  \\\n",
              "0                       0                     0                        0  ...   \n",
              "1                       0                     0                        0  ...   \n",
              "2                       0                     0                        0  ...   \n",
              "3                       0                     0                        0  ...   \n",
              "4                       0                     0                        0  ...   \n",
              "\n",
              "   Native country: Portugal  Native country: Puerto-Rico  \\\n",
              "0                         0                            0   \n",
              "1                         0                            0   \n",
              "2                         0                            0   \n",
              "3                         0                            0   \n",
              "4                         0                            0   \n",
              "\n",
              "   Native country: Scotland  Native country: South  Native country: Taiwan  \\\n",
              "0                         0                      0                       0   \n",
              "1                         0                      0                       0   \n",
              "2                         0                      0                       0   \n",
              "3                         0                      0                       0   \n",
              "4                         0                      0                       0   \n",
              "\n",
              "   Native country: Thailand  Native country: Trinadad&Tobago  \\\n",
              "0                         0                                0   \n",
              "1                         0                                0   \n",
              "2                         0                                0   \n",
              "3                         0                                0   \n",
              "4                         0                                0   \n",
              "\n",
              "   Native country: United-States  Native country: Vietnam  \\\n",
              "0                              1                        0   \n",
              "1                              1                        0   \n",
              "2                              1                        0   \n",
              "3                              1                        0   \n",
              "4                              0                        0   \n",
              "\n",
              "   Native country: Yugoslavia  \n",
              "0                           0  \n",
              "1                           0  \n",
              "2                           0  \n",
              "3                           0  \n",
              "4                           0  \n",
              "\n",
              "[5 rows x 90 columns]"
            ]
          },
          "execution_count": 19,
          "metadata": {},
          "output_type": "execute_result"
        }
      ],
      "source": [
        "df.head()"
      ]
    },
    {
      "cell_type": "markdown",
      "metadata": {
        "id": "e0UK9S430Y8T"
      },
      "source": [
        "## VISUALIZATION"
      ]
    },
    {
      "cell_type": "code",
      "execution_count": null,
      "metadata": {
        "id": "GKFStVnx0Y8T",
        "outputId": "884734ce-52a6-4b27-923a-ee923f27da52"
      },
      "outputs": [
        {
          "data": {
            "text/plain": [
              "<matplotlib.axes._subplots.AxesSubplot at 0x181640f2248>"
            ]
          },
          "execution_count": 40,
          "metadata": {},
          "output_type": "execute_result"
        },
        {
          "data": {
            "image/png": "[encoded data removed]",
            "text/plain": [
              "<Figure size 432x288 with 2 Axes>"
            ]
          },
          "metadata": {
            "needs_background": "light"
          },
          "output_type": "display_data"
        }
      ],
      "source": [
        "sn.heatmap(df.isnull())"
      ]
    },
    {
      "cell_type": "markdown",
      "metadata": {
        "id": "3PbwKjZw0Y8T"
      },
      "source": [
        "## Preparing data for Training and testing"
      ]
    },
    {
      "cell_type": "code",
      "execution_count": null,
      "metadata": {
        "id": "pXRCtS4d0Y8U"
      },
      "outputs": [],
      "source": [
        "X = np.array(df.drop(['Income'], 1))\n",
        "y = np.array(df['Income'])\n",
        "X = preprocessing.scale(X)\n",
        "y = np.array(df['Income'])"
      ]
    },
    {
      "cell_type": "code",
      "execution_count": null,
      "metadata": {
        "id": "4V72kLCO0Y8U"
      },
      "outputs": [],
      "source": [
        "from sklearn.model_selection import train_test_split"
      ]
    },
    {
      "cell_type": "code",
      "execution_count": null,
      "metadata": {
        "id": "OS3HwcfK0Y8U"
      },
      "outputs": [],
      "source": [
        "X_train, X_test, y_train, y_test = train_test_split(X, y, test_size=0.2)"
      ]
    },
    {
      "cell_type": "markdown",
      "metadata": {
        "id": "TXB8vRec0Y8U"
      },
      "source": [
        "# CLASSIFICATION"
      ]
    },
    {
      "cell_type": "markdown",
      "metadata": {
        "id": "EeNuDcfu0Y8U"
      },
      "source": [
        "### LOGISTIC REGRESSION"
      ]
    },
    {
      "cell_type": "code",
      "execution_count": null,
      "metadata": {
        "id": "8yK37Xad0Y8U"
      },
      "outputs": [],
      "source": [
        "from sklearn.metrics import accuracy_score\n",
        "lrn = LogisticRegression(penalty = 'l2', C = .001, class_weight='balanced')"
      ]
    },
    {
      "cell_type": "code",
      "execution_count": null,
      "metadata": {
        "id": "hoYlNTTs0Y8U"
      },
      "outputs": [],
      "source": [
        "lrn.fit(X_train, y_train)\n",
        "y_pred = lrn.predict(X_test)"
      ]
    },
    {
      "cell_type": "code",
      "execution_count": null,
      "metadata": {
        "id": "6th8eLD20Y8V",
        "outputId": "afd3567c-34c6-48d3-f22a-3aef89b0ea31"
      },
      "outputs": [
        {
          "name": "stdout",
          "output_type": "stream",
          "text": [
            "[[5954 2199]\n",
            " [ 263 1353]]\n"
          ]
        },
        {
          "data": {
            "text/plain": [
              "0.7479782986999692"
            ]
          },
          "execution_count": 30,
          "metadata": {},
          "output_type": "execute_result"
        }
      ],
      "source": [
        "print(confusion_matrix(y_test,y_pred))\n",
        "accuracy_score(y_test, y_pred)"
      ]
    },
    {
      "cell_type": "markdown",
      "metadata": {
        "id": "uwObDgIy0Y8V"
      },
      "source": [
        "### LDA Linear Discriminant Analysis"
      ]
    },
    {
      "cell_type": "code",
      "execution_count": null,
      "metadata": {
        "id": "YLmczlxe0Y8V"
      },
      "outputs": [],
      "source": [
        "from sklearn.discriminant_analysis import LinearDiscriminantAnalysis\n",
        "from sklearn import metrics"
      ]
    },
    {
      "cell_type": "code",
      "execution_count": null,
      "metadata": {
        "id": "JC-0nDJf0Y8V",
        "outputId": "c5196f13-ab49-4d10-9cb0-1d3b6f0d202f"
      },
      "outputs": [
        {
          "data": {
            "text/plain": [
              "0.8412324700583478"
            ]
          },
          "execution_count": 32,
          "metadata": {},
          "output_type": "execute_result"
        }
      ],
      "source": [
        "clf = LinearDiscriminantAnalysis()\n",
        "clf.fit( X_train, y_train )\n",
        "tree_predict = clf.predict(X_test)\n",
        "metrics.accuracy_score( y_test, tree_predict )"
      ]
    },
    {
      "cell_type": "code",
      "execution_count": null,
      "metadata": {
        "id": "jzQdsrhE0Y8V",
        "outputId": "324746de-dc52-4b15-9e4a-78e189a1df79"
      },
      "outputs": [
        {
          "name": "stdout",
          "output_type": "stream",
          "text": [
            "[[7464  689]\n",
            " [ 862  754]]\n",
            "The Accuracy for LDA is 0.8412324700583478\n"
          ]
        }
      ],
      "source": [
        "print(confusion_matrix(y_test,tree_predict))\n",
        "LDA = accuracy_score(y_test, tree_predict)\n",
        "print(\"The Accuracy for LDA is {}\".format(LDA))"
      ]
    },
    {
      "cell_type": "markdown",
      "metadata": {
        "id": "B620aW2y0Y8W"
      },
      "source": [
        "### KNN"
      ]
    },
    {
      "cell_type": "code",
      "execution_count": null,
      "metadata": {
        "id": "ssGiRdmC0Y8W"
      },
      "outputs": [],
      "source": [
        "from sklearn import preprocessing, neighbors\n",
        "from sklearn.model_selection import cross_validate\n",
        "from sklearn.metrics import accuracy_score"
      ]
    },
    {
      "cell_type": "code",
      "execution_count": null,
      "metadata": {
        "id": "tBL9Ve5Z0Y8W"
      },
      "outputs": [],
      "source": [
        "clf = neighbors.KNeighborsClassifier()\n",
        "\n",
        "clf.fit(X_train, y_train)\n",
        "\n",
        "knnpre = clf.predict(X_test)"
      ]
    },
    {
      "cell_type": "code",
      "execution_count": null,
      "metadata": {
        "scrolled": false,
        "id": "L_ES8fIj0Y8W",
        "outputId": "df772f01-fca1-41a8-a047-091a82ede283"
      },
      "outputs": [
        {
          "name": "stdout",
          "output_type": "stream",
          "text": [
            "[[7595  558]\n",
            " [1088  528]]\n",
            "The Accuracy for KNN is 0.8315078308936431\n"
          ]
        }
      ],
      "source": [
        "print(confusion_matrix(y_test,knnpre))\n",
        "KKNA = accuracy_score(y_test, knnpre)\n",
        "print(\"The Accuracy for KNN is {}\".format(KKNA))"
      ]
    },
    {
      "cell_type": "markdown",
      "metadata": {
        "id": "hd_51nqz0Y8W"
      },
      "source": [
        "### SVM"
      ]
    },
    {
      "cell_type": "code",
      "execution_count": null,
      "metadata": {
        "id": "TfamRatZ0Y8X"
      },
      "outputs": [],
      "source": [
        "from sklearn.svm import SVC\n",
        "from sklearn.model_selection import learning_curve, GridSearchCV"
      ]
    },
    {
      "cell_type": "code",
      "execution_count": null,
      "metadata": {
        "id": "zMnOZsVl0Y8X"
      },
      "outputs": [],
      "source": [
        "svc = SVC(C = 1.0, kernel = \"linear\" )\n",
        "svc.fit( X_train, y_train )\n",
        "svc_predict = svc.predict( X_test )"
      ]
    },
    {
      "cell_type": "code",
      "execution_count": null,
      "metadata": {
        "id": "84FkJfJT0Y8X",
        "outputId": "37872365-1a43-4c24-f3d2-59acb25daf96"
      },
      "outputs": [
        {
          "name": "stdout",
          "output_type": "stream",
          "text": [
            "[[8138   15]\n",
            " [1586   30]]\n",
            "The Accuracy for SVM is 0.8361142389190296\n"
          ]
        }
      ],
      "source": [
        "print(confusion_matrix(y_test,svc_predict))\n",
        "SVMA = accuracy_score(y_test, svc_predict)\n",
        "print(\"The Accuracy for SVM is {}\".format(SVMA))"
      ]
    }
  ],
  "metadata": {
    "kernelspec": {
      "display_name": "Python 3",
      "language": "python",
      "name": "python3"
    },
    "language_info": {
      "codemirror_mode": {
        "name": "ipython",
        "version": 3
      },
      "file_extension": ".py",
      "mimetype": "text/x-python",
      "name": "python",
      "nbconvert_exporter": "python",
      "pygments_lexer": "ipython3",
      "version": "3.7.6"
    },
    "colab": {
      "provenance": [],
      "include_colab_link": true
    }
  },
  "nbformat": 4,
  "nbformat_minor": 0
}